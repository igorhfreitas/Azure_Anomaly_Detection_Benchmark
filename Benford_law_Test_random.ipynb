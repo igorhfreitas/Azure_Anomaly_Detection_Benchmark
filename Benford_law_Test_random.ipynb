{
 "cells": [
  {
   "cell_type": "markdown",
   "metadata": {},
   "source": [
    "# Benford law comparision\n",
    "\n",
    "To compare the capabilities of Azure Anomaly Detecction service, the Benford Law were used as benchmark in some datasets."
   ]
  },
  {
   "cell_type": "code",
   "execution_count": 1,
   "metadata": {},
   "outputs": [
    {
     "name": "stderr",
     "output_type": "stream",
     "text": [
      "\n",
      "Bad key \"text.kerning_factor\" on line 4 in\n",
      "C:\\Users\\ihfreitas\\AppData\\Local\\Continuum\\anaconda3\\envs\\python37\\lib\\site-packages\\matplotlib\\mpl-data\\stylelib\\_classic_test_patch.mplstyle.\n",
      "You probably need to get an updated matplotlibrc file from\n",
      "https://github.com/matplotlib/matplotlib/blob/v3.1.2/matplotlibrc.template\n",
      "or from the matplotlib source distribution\n"
     ]
    }
   ],
   "source": [
    "import pandas as pd\n",
    "import numpy as np\n",
    "import matplotlib.pyplot as plt\n",
    "import seaborn as sns\n",
    "\n",
    "%matplotlib inline"
   ]
  },
  {
   "cell_type": "markdown",
   "metadata": {},
   "source": [
    "Reading data"
   ]
  },
  {
   "cell_type": "code",
   "execution_count": 8,
   "metadata": {},
   "outputs": [],
   "source": [
    "df=pd.read_csv(\"Teste_random.csv\",sep=';').drop([\"Unnamed: 4\",'Unnamed: 5'],axis=1)"
   ]
  },
  {
   "cell_type": "code",
   "execution_count": 9,
   "metadata": {},
   "outputs": [
    {
     "data": {
      "text/html": [
       "<div>\n",
       "<style scoped>\n",
       "    .dataframe tbody tr th:only-of-type {\n",
       "        vertical-align: middle;\n",
       "    }\n",
       "\n",
       "    .dataframe tbody tr th {\n",
       "        vertical-align: top;\n",
       "    }\n",
       "\n",
       "    .dataframe thead th {\n",
       "        text-align: right;\n",
       "    }\n",
       "</style>\n",
       "<table border=\"1\" class=\"dataframe\">\n",
       "  <thead>\n",
       "    <tr style=\"text-align: right;\">\n",
       "      <th></th>\n",
       "      <th>data</th>\n",
       "      <th>Esperado</th>\n",
       "      <th>Verificado</th>\n",
       "      <th>Check</th>\n",
       "    </tr>\n",
       "  </thead>\n",
       "  <tbody>\n",
       "    <tr>\n",
       "      <th>0</th>\n",
       "      <td>01/01/1990</td>\n",
       "      <td>49.94</td>\n",
       "      <td>49.94</td>\n",
       "      <td>True</td>\n",
       "    </tr>\n",
       "    <tr>\n",
       "      <th>1</th>\n",
       "      <td>02/01/1990</td>\n",
       "      <td>89.09</td>\n",
       "      <td>89.09</td>\n",
       "      <td>True</td>\n",
       "    </tr>\n",
       "    <tr>\n",
       "      <th>2</th>\n",
       "      <td>03/01/1990</td>\n",
       "      <td>73.76</td>\n",
       "      <td>73.76</td>\n",
       "      <td>True</td>\n",
       "    </tr>\n",
       "    <tr>\n",
       "      <th>3</th>\n",
       "      <td>04/01/1990</td>\n",
       "      <td>22.14</td>\n",
       "      <td>22.14</td>\n",
       "      <td>True</td>\n",
       "    </tr>\n",
       "    <tr>\n",
       "      <th>4</th>\n",
       "      <td>05/01/1990</td>\n",
       "      <td>90.00</td>\n",
       "      <td>90.00</td>\n",
       "      <td>True</td>\n",
       "    </tr>\n",
       "    <tr>\n",
       "      <th>...</th>\n",
       "      <td>...</td>\n",
       "      <td>...</td>\n",
       "      <td>...</td>\n",
       "      <td>...</td>\n",
       "    </tr>\n",
       "    <tr>\n",
       "      <th>10952</th>\n",
       "      <td>27/12/2019</td>\n",
       "      <td>89.58</td>\n",
       "      <td>89.58</td>\n",
       "      <td>True</td>\n",
       "    </tr>\n",
       "    <tr>\n",
       "      <th>10953</th>\n",
       "      <td>28/12/2019</td>\n",
       "      <td>56.12</td>\n",
       "      <td>56.12</td>\n",
       "      <td>True</td>\n",
       "    </tr>\n",
       "    <tr>\n",
       "      <th>10954</th>\n",
       "      <td>29/12/2019</td>\n",
       "      <td>80.22</td>\n",
       "      <td>80.22</td>\n",
       "      <td>True</td>\n",
       "    </tr>\n",
       "    <tr>\n",
       "      <th>10955</th>\n",
       "      <td>30/12/2019</td>\n",
       "      <td>62.85</td>\n",
       "      <td>62.85</td>\n",
       "      <td>True</td>\n",
       "    </tr>\n",
       "    <tr>\n",
       "      <th>10956</th>\n",
       "      <td>31/12/2019</td>\n",
       "      <td>32.58</td>\n",
       "      <td>32.58</td>\n",
       "      <td>True</td>\n",
       "    </tr>\n",
       "  </tbody>\n",
       "</table>\n",
       "<p>10957 rows × 4 columns</p>\n",
       "</div>"
      ],
      "text/plain": [
       "             data  Esperado  Verificado  Check\n",
       "0      01/01/1990     49.94       49.94   True\n",
       "1      02/01/1990     89.09       89.09   True\n",
       "2      03/01/1990     73.76       73.76   True\n",
       "3      04/01/1990     22.14       22.14   True\n",
       "4      05/01/1990     90.00       90.00   True\n",
       "...           ...       ...         ...    ...\n",
       "10952  27/12/2019     89.58       89.58   True\n",
       "10953  28/12/2019     56.12       56.12   True\n",
       "10954  29/12/2019     80.22       80.22   True\n",
       "10955  30/12/2019     62.85       62.85   True\n",
       "10956  31/12/2019     32.58       32.58   True\n",
       "\n",
       "[10957 rows x 4 columns]"
      ]
     },
     "execution_count": 9,
     "metadata": {},
     "output_type": "execute_result"
    }
   ],
   "source": [
    "df"
   ]
  },
  {
   "cell_type": "code",
   "execution_count": 10,
   "metadata": {},
   "outputs": [],
   "source": [
    "df[\"data\"]=pd.to_datetime(df[\"data\"])"
   ]
  },
  {
   "cell_type": "code",
   "execution_count": 14,
   "metadata": {},
   "outputs": [
    {
     "data": {
      "text/plain": [
       "Check\n",
       "False    2190\n",
       "True     8767\n",
       "Name: Check, dtype: int64"
      ]
     },
     "execution_count": 14,
     "metadata": {},
     "output_type": "execute_result"
    }
   ],
   "source": [
    "df.groupby(\"Check\")[\"Check\"].count()"
   ]
  },
  {
   "cell_type": "code",
   "execution_count": 15,
   "metadata": {},
   "outputs": [
    {
     "data": {
      "text/plain": [
       "<matplotlib.axes._subplots.AxesSubplot at 0x1bebbf790f0>"
      ]
     },
     "execution_count": 15,
     "metadata": {},
     "output_type": "execute_result"
    },
    {
     "data": {
      "image/png": "[encoded data removed]",
      "text/plain": [
       "<Figure size 720x576 with 1 Axes>"
      ]
     },
     "metadata": {
      "needs_background": "light"
     },
     "output_type": "display_data"
    }
   ],
   "source": [
    "fig,ax=plt.subplots(nrows=1,ncols=1,figsize=(10,8))\n",
    "sns.lineplot(x=\"data\",y=\"Verificado\",data=df)"
   ]
  },
  {
   "cell_type": "markdown",
   "metadata": {},
   "source": [
    "Extracting digits"
   ]
  },
  {
   "cell_type": "code",
   "execution_count": 20,
   "metadata": {},
   "outputs": [],
   "source": [
    "df[\"VALUES_FIRST_DIGIT\"]=df[\"Verificado\"].astype(str)\\\n",
    "                                         .str.replace(\"0.0\",\"\",regex=False)\\\n",
    "                                         .str.replace(\"0.\",\"\",regex=False)\\\n",
    "                                         .str.slice(0,1)\n",
    "\n",
    "df[\"VALUES_FIRST_DIGIT_ESPECTED\"]=df[\"Esperado\"].astype(str)\\\n",
    "                                         .str.replace(\"0.0\",\"\",regex=False)\\\n",
    "                                         .str.replace(\"0.\",\"\",regex=False)\\\n",
    "                                         .str.slice(0,1)"
   ]
  },
  {
   "cell_type": "code",
   "execution_count": 21,
   "metadata": {},
   "outputs": [
    {
     "data": {
      "text/html": [
       "<div>\n",
       "<style scoped>\n",
       "    .dataframe tbody tr th:only-of-type {\n",
       "        vertical-align: middle;\n",
       "    }\n",
       "\n",
       "    .dataframe tbody tr th {\n",
       "        vertical-align: top;\n",
       "    }\n",
       "\n",
       "    .dataframe thead th {\n",
       "        text-align: right;\n",
       "    }\n",
       "</style>\n",
       "<table border=\"1\" class=\"dataframe\">\n",
       "  <thead>\n",
       "    <tr style=\"text-align: right;\">\n",
       "      <th></th>\n",
       "      <th>data</th>\n",
       "      <th>Esperado</th>\n",
       "      <th>Verificado</th>\n",
       "      <th>Check</th>\n",
       "      <th>VALUES_FIRST_DIGIT</th>\n",
       "      <th>VALUES_FIRST_DIGIT_ESPECTED</th>\n",
       "    </tr>\n",
       "  </thead>\n",
       "  <tbody>\n",
       "    <tr>\n",
       "      <th>0</th>\n",
       "      <td>1990-01-01</td>\n",
       "      <td>49.94</td>\n",
       "      <td>49.94</td>\n",
       "      <td>True</td>\n",
       "      <td>4</td>\n",
       "      <td>4</td>\n",
       "    </tr>\n",
       "    <tr>\n",
       "      <th>1</th>\n",
       "      <td>1990-02-01</td>\n",
       "      <td>89.09</td>\n",
       "      <td>89.09</td>\n",
       "      <td>True</td>\n",
       "      <td>8</td>\n",
       "      <td>8</td>\n",
       "    </tr>\n",
       "    <tr>\n",
       "      <th>2</th>\n",
       "      <td>1990-03-01</td>\n",
       "      <td>73.76</td>\n",
       "      <td>73.76</td>\n",
       "      <td>True</td>\n",
       "      <td>7</td>\n",
       "      <td>7</td>\n",
       "    </tr>\n",
       "    <tr>\n",
       "      <th>3</th>\n",
       "      <td>1990-04-01</td>\n",
       "      <td>22.14</td>\n",
       "      <td>22.14</td>\n",
       "      <td>True</td>\n",
       "      <td>2</td>\n",
       "      <td>2</td>\n",
       "    </tr>\n",
       "    <tr>\n",
       "      <th>4</th>\n",
       "      <td>1990-05-01</td>\n",
       "      <td>90.00</td>\n",
       "      <td>90.00</td>\n",
       "      <td>True</td>\n",
       "      <td>9</td>\n",
       "      <td>9</td>\n",
       "    </tr>\n",
       "    <tr>\n",
       "      <th>...</th>\n",
       "      <td>...</td>\n",
       "      <td>...</td>\n",
       "      <td>...</td>\n",
       "      <td>...</td>\n",
       "      <td>...</td>\n",
       "      <td>...</td>\n",
       "    </tr>\n",
       "    <tr>\n",
       "      <th>10952</th>\n",
       "      <td>2019-12-27</td>\n",
       "      <td>89.58</td>\n",
       "      <td>89.58</td>\n",
       "      <td>True</td>\n",
       "      <td>8</td>\n",
       "      <td>8</td>\n",
       "    </tr>\n",
       "    <tr>\n",
       "      <th>10953</th>\n",
       "      <td>2019-12-28</td>\n",
       "      <td>56.12</td>\n",
       "      <td>56.12</td>\n",
       "      <td>True</td>\n",
       "      <td>5</td>\n",
       "      <td>5</td>\n",
       "    </tr>\n",
       "    <tr>\n",
       "      <th>10954</th>\n",
       "      <td>2019-12-29</td>\n",
       "      <td>80.22</td>\n",
       "      <td>80.22</td>\n",
       "      <td>True</td>\n",
       "      <td>8</td>\n",
       "      <td>8</td>\n",
       "    </tr>\n",
       "    <tr>\n",
       "      <th>10955</th>\n",
       "      <td>2019-12-30</td>\n",
       "      <td>62.85</td>\n",
       "      <td>62.85</td>\n",
       "      <td>True</td>\n",
       "      <td>6</td>\n",
       "      <td>6</td>\n",
       "    </tr>\n",
       "    <tr>\n",
       "      <th>10956</th>\n",
       "      <td>2019-12-31</td>\n",
       "      <td>32.58</td>\n",
       "      <td>32.58</td>\n",
       "      <td>True</td>\n",
       "      <td>3</td>\n",
       "      <td>3</td>\n",
       "    </tr>\n",
       "  </tbody>\n",
       "</table>\n",
       "<p>10957 rows × 6 columns</p>\n",
       "</div>"
      ],
      "text/plain": [
       "            data  Esperado  Verificado  Check VALUES_FIRST_DIGIT  \\\n",
       "0     1990-01-01     49.94       49.94   True                  4   \n",
       "1     1990-02-01     89.09       89.09   True                  8   \n",
       "2     1990-03-01     73.76       73.76   True                  7   \n",
       "3     1990-04-01     22.14       22.14   True                  2   \n",
       "4     1990-05-01     90.00       90.00   True                  9   \n",
       "...          ...       ...         ...    ...                ...   \n",
       "10952 2019-12-27     89.58       89.58   True                  8   \n",
       "10953 2019-12-28     56.12       56.12   True                  5   \n",
       "10954 2019-12-29     80.22       80.22   True                  8   \n",
       "10955 2019-12-30     62.85       62.85   True                  6   \n",
       "10956 2019-12-31     32.58       32.58   True                  3   \n",
       "\n",
       "      VALUES_FIRST_DIGIT_ESPECTED  \n",
       "0                               4  \n",
       "1                               8  \n",
       "2                               7  \n",
       "3                               2  \n",
       "4                               9  \n",
       "...                           ...  \n",
       "10952                           8  \n",
       "10953                           5  \n",
       "10954                           8  \n",
       "10955                           6  \n",
       "10956                           3  \n",
       "\n",
       "[10957 rows x 6 columns]"
      ]
     },
     "execution_count": 21,
     "metadata": {},
     "output_type": "execute_result"
    }
   ],
   "source": [
    "df"
   ]
  },
  {
   "cell_type": "markdown",
   "metadata": {},
   "source": [
    "Apply benford law"
   ]
  },
  {
   "cell_type": "code",
   "execution_count": 30,
   "metadata": {},
   "outputs": [],
   "source": [
    "benford_law=df.groupby(\"VALUES_FIRST_DIGIT\")[\"data\"].count().reset_index().merge(\n",
    "    df.groupby(\"VALUES_FIRST_DIGIT_ESPECTED\")[\"data\"].count().reset_index()\\\n",
    "                .rename(columns={\"VALUES_FIRST_DIGIT_ESPECTED\":\"VALUES_FIRST_DIGIT\"}),\n",
    "    on=\"VALUES_FIRST_DIGIT\").rename(columns={\"data_x\":\"verificada\",\"data_y\":\"esperada\"})"
   ]
  },
  {
   "cell_type": "code",
   "execution_count": 31,
   "metadata": {},
   "outputs": [
    {
     "data": {
      "text/html": [
       "<div>\n",
       "<style scoped>\n",
       "    .dataframe tbody tr th:only-of-type {\n",
       "        vertical-align: middle;\n",
       "    }\n",
       "\n",
       "    .dataframe tbody tr th {\n",
       "        vertical-align: top;\n",
       "    }\n",
       "\n",
       "    .dataframe thead th {\n",
       "        text-align: right;\n",
       "    }\n",
       "</style>\n",
       "<table border=\"1\" class=\"dataframe\">\n",
       "  <thead>\n",
       "    <tr style=\"text-align: right;\">\n",
       "      <th></th>\n",
       "      <th>VALUES_FIRST_DIGIT</th>\n",
       "      <th>verificada</th>\n",
       "      <th>esperada</th>\n",
       "    </tr>\n",
       "  </thead>\n",
       "  <tbody>\n",
       "    <tr>\n",
       "      <th>0</th>\n",
       "      <td>1</td>\n",
       "      <td>1522</td>\n",
       "      <td>1271</td>\n",
       "    </tr>\n",
       "    <tr>\n",
       "      <th>1</th>\n",
       "      <td>2</td>\n",
       "      <td>1161</td>\n",
       "      <td>1230</td>\n",
       "    </tr>\n",
       "    <tr>\n",
       "      <th>2</th>\n",
       "      <td>3</td>\n",
       "      <td>1205</td>\n",
       "      <td>1233</td>\n",
       "    </tr>\n",
       "    <tr>\n",
       "      <th>3</th>\n",
       "      <td>4</td>\n",
       "      <td>1177</td>\n",
       "      <td>1229</td>\n",
       "    </tr>\n",
       "    <tr>\n",
       "      <th>4</th>\n",
       "      <td>5</td>\n",
       "      <td>1166</td>\n",
       "      <td>1170</td>\n",
       "    </tr>\n",
       "    <tr>\n",
       "      <th>5</th>\n",
       "      <td>6</td>\n",
       "      <td>1208</td>\n",
       "      <td>1184</td>\n",
       "    </tr>\n",
       "    <tr>\n",
       "      <th>6</th>\n",
       "      <td>7</td>\n",
       "      <td>1185</td>\n",
       "      <td>1212</td>\n",
       "    </tr>\n",
       "    <tr>\n",
       "      <th>7</th>\n",
       "      <td>8</td>\n",
       "      <td>1176</td>\n",
       "      <td>1216</td>\n",
       "    </tr>\n",
       "    <tr>\n",
       "      <th>8</th>\n",
       "      <td>9</td>\n",
       "      <td>1157</td>\n",
       "      <td>1212</td>\n",
       "    </tr>\n",
       "  </tbody>\n",
       "</table>\n",
       "</div>"
      ],
      "text/plain": [
       "  VALUES_FIRST_DIGIT  verificada  esperada\n",
       "0                  1        1522      1271\n",
       "1                  2        1161      1230\n",
       "2                  3        1205      1233\n",
       "3                  4        1177      1229\n",
       "4                  5        1166      1170\n",
       "5                  6        1208      1184\n",
       "6                  7        1185      1212\n",
       "7                  8        1176      1216\n",
       "8                  9        1157      1212"
      ]
     },
     "execution_count": 31,
     "metadata": {},
     "output_type": "execute_result"
    }
   ],
   "source": [
    "benford_law"
   ]
  },
  {
   "cell_type": "code",
   "execution_count": 38,
   "metadata": {},
   "outputs": [],
   "source": [
    "benford_law[\"%_OCORRECIAS_verificada\"]=benford_law[\"verificada\"]/benford_law[\"verificada\"].sum()*100\n",
    "benford_law[\"%_OCORRECIAS_esperada_dataset\"]=benford_law[\"esperada\"]/benford_law[\"esperada\"].sum()*100\n",
    "benford_law[\"%_OCORRECIAS_ESPERADAS\"]=[30.1,17.6,12.5,9.7,7.9,6.7,5.8,5.1,4.6]"
   ]
  },
  {
   "cell_type": "code",
   "execution_count": 39,
   "metadata": {},
   "outputs": [
    {
     "data": {
      "text/html": [
       "<div>\n",
       "<style scoped>\n",
       "    .dataframe tbody tr th:only-of-type {\n",
       "        vertical-align: middle;\n",
       "    }\n",
       "\n",
       "    .dataframe tbody tr th {\n",
       "        vertical-align: top;\n",
       "    }\n",
       "\n",
       "    .dataframe thead th {\n",
       "        text-align: right;\n",
       "    }\n",
       "</style>\n",
       "<table border=\"1\" class=\"dataframe\">\n",
       "  <thead>\n",
       "    <tr style=\"text-align: right;\">\n",
       "      <th></th>\n",
       "      <th>VALUES_FIRST_DIGIT</th>\n",
       "      <th>verificada</th>\n",
       "      <th>esperada</th>\n",
       "      <th>%_OCORRECIAS_ESPERADAS</th>\n",
       "      <th>%_OCORRECIAS_verificada</th>\n",
       "      <th>%_OCORRECIAS_esperada_dataset</th>\n",
       "    </tr>\n",
       "  </thead>\n",
       "  <tbody>\n",
       "    <tr>\n",
       "      <th>0</th>\n",
       "      <td>1</td>\n",
       "      <td>1522</td>\n",
       "      <td>1271</td>\n",
       "      <td>30.1</td>\n",
       "      <td>13.890664</td>\n",
       "      <td>11.599890</td>\n",
       "    </tr>\n",
       "    <tr>\n",
       "      <th>1</th>\n",
       "      <td>2</td>\n",
       "      <td>1161</td>\n",
       "      <td>1230</td>\n",
       "      <td>17.6</td>\n",
       "      <td>10.595966</td>\n",
       "      <td>11.225700</td>\n",
       "    </tr>\n",
       "    <tr>\n",
       "      <th>2</th>\n",
       "      <td>3</td>\n",
       "      <td>1205</td>\n",
       "      <td>1233</td>\n",
       "      <td>12.5</td>\n",
       "      <td>10.997536</td>\n",
       "      <td>11.253080</td>\n",
       "    </tr>\n",
       "    <tr>\n",
       "      <th>3</th>\n",
       "      <td>4</td>\n",
       "      <td>1177</td>\n",
       "      <td>1229</td>\n",
       "      <td>9.7</td>\n",
       "      <td>10.741991</td>\n",
       "      <td>11.216574</td>\n",
       "    </tr>\n",
       "    <tr>\n",
       "      <th>4</th>\n",
       "      <td>5</td>\n",
       "      <td>1166</td>\n",
       "      <td>1170</td>\n",
       "      <td>7.9</td>\n",
       "      <td>10.641599</td>\n",
       "      <td>10.678105</td>\n",
       "    </tr>\n",
       "    <tr>\n",
       "      <th>5</th>\n",
       "      <td>6</td>\n",
       "      <td>1208</td>\n",
       "      <td>1184</td>\n",
       "      <td>6.7</td>\n",
       "      <td>11.024916</td>\n",
       "      <td>10.805878</td>\n",
       "    </tr>\n",
       "    <tr>\n",
       "      <th>6</th>\n",
       "      <td>7</td>\n",
       "      <td>1185</td>\n",
       "      <td>1212</td>\n",
       "      <td>5.8</td>\n",
       "      <td>10.815004</td>\n",
       "      <td>11.061422</td>\n",
       "    </tr>\n",
       "    <tr>\n",
       "      <th>7</th>\n",
       "      <td>8</td>\n",
       "      <td>1176</td>\n",
       "      <td>1216</td>\n",
       "      <td>5.1</td>\n",
       "      <td>10.732865</td>\n",
       "      <td>11.097928</td>\n",
       "    </tr>\n",
       "    <tr>\n",
       "      <th>8</th>\n",
       "      <td>9</td>\n",
       "      <td>1157</td>\n",
       "      <td>1212</td>\n",
       "      <td>4.6</td>\n",
       "      <td>10.559460</td>\n",
       "      <td>11.061422</td>\n",
       "    </tr>\n",
       "  </tbody>\n",
       "</table>\n",
       "</div>"
      ],
      "text/plain": [
       "  VALUES_FIRST_DIGIT  verificada  esperada  %_OCORRECIAS_ESPERADAS  \\\n",
       "0                  1        1522      1271                    30.1   \n",
       "1                  2        1161      1230                    17.6   \n",
       "2                  3        1205      1233                    12.5   \n",
       "3                  4        1177      1229                     9.7   \n",
       "4                  5        1166      1170                     7.9   \n",
       "5                  6        1208      1184                     6.7   \n",
       "6                  7        1185      1212                     5.8   \n",
       "7                  8        1176      1216                     5.1   \n",
       "8                  9        1157      1212                     4.6   \n",
       "\n",
       "   %_OCORRECIAS_verificada  %_OCORRECIAS_esperada_dataset  \n",
       "0                13.890664                      11.599890  \n",
       "1                10.595966                      11.225700  \n",
       "2                10.997536                      11.253080  \n",
       "3                10.741991                      11.216574  \n",
       "4                10.641599                      10.678105  \n",
       "5                11.024916                      10.805878  \n",
       "6                10.815004                      11.061422  \n",
       "7                10.732865                      11.097928  \n",
       "8                10.559460                      11.061422  "
      ]
     },
     "execution_count": 39,
     "metadata": {},
     "output_type": "execute_result"
    }
   ],
   "source": [
    "benford_law"
   ]
  },
  {
   "cell_type": "markdown",
   "metadata": {},
   "source": [
    "Verifying results"
   ]
  },
  {
   "cell_type": "code",
   "execution_count": 40,
   "metadata": {},
   "outputs": [
    {
     "data": {
      "text/plain": [
       "<matplotlib.legend.Legend at 0x1bebc2fef28>"
      ]
     },
     "execution_count": 40,
     "metadata": {},
     "output_type": "execute_result"
    },
    {
     "data": {
      "image/png": "[encoded data removed]",
      "text/plain": [
       "<Figure size 720x576 with 1 Axes>"
      ]
     },
     "metadata": {
      "needs_background": "light"
     },
     "output_type": "display_data"
    }
   ],
   "source": [
    "fig,ax=plt.subplots(nrows=1,ncols=1,figsize=(10,8))\n",
    "sns.lineplot(x=\"VALUES_FIRST_DIGIT\",y=\"%_OCORRECIAS_verificada\",data=benford_law,label=\"Verificado\")\n",
    "sns.lineplot(x=\"VALUES_FIRST_DIGIT\",y=\"%_OCORRECIAS_esperada_dataset\",data=benford_law,\n",
    "             label=\"Esperado_dataset\")\n",
    "sns.lineplot(x=\"VALUES_FIRST_DIGIT\",y=\"%_OCORRECIAS_ESPERADAS\",data=benford_law,label=\"Esperado\")\n",
    "plt.legend()"
   ]
  },
  {
   "cell_type": "markdown",
   "metadata": {},
   "source": [
    "### Conclusion\n",
    "\n",
    "According benford law, this time serie are almost random, but thinking from the business side this application lack details to guide consultants where to look, since it basically is saying that all the data do not follow benford law and then would be considered as anomalies.\n",
    "\n",
    "However, since this data were built manually to emulate financial records, the data must not replicate a financial report correctly and then could not be appropriate for this test."
   ]
  },
  {
   "cell_type": "markdown",
   "metadata": {},
   "source": []
  }
 ],
 "metadata": {
  "kernelspec": {
   "display_name": "Python 3.7.1 64-bit ('python37': conda)",
   "language": "python",
   "name": "python37164bitpython37conda86dd619e90c74337ac09368764e40126"
  },
  "language_info": {
   "codemirror_mode": {
    "name": "ipython",
    "version": 3
   },
   "file_extension": ".py",
   "mimetype": "text/x-python",
   "name": "python",
   "nbconvert_exporter": "python",
   "pygments_lexer": "ipython3",
   "version": "3.7.1"
  }
 },
 "nbformat": 4,
 "nbformat_minor": 4
}
